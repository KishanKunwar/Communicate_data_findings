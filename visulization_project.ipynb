{
 "cells": [
  {
   "cell_type": "markdown",
   "metadata": {},
   "source": [
    "## Data wrangling"
   ]
  },
  {
   "cell_type": "markdown",
   "metadata": {},
   "source": [
    "### Gatheing Data"
   ]
  },
  {
   "cell_type": "code",
   "execution_count": 1,
   "metadata": {},
   "outputs": [],
   "source": [
    "# prerequisite package imports\n",
    "import numpy as np\n",
    "import pandas as pd\n",
    "import matplotlib.pyplot as plt\n",
    "import seaborn as sb\n",
    "from matplotlib.pyplot import xticks\n",
    "\n",
    "%matplotlib inline"
   ]
  },
  {
   "cell_type": "code",
   "execution_count": 2,
   "metadata": {},
   "outputs": [
    {
     "data": {
      "text/html": [
       "<div>\n",
       "<style scoped>\n",
       "    .dataframe tbody tr th:only-of-type {\n",
       "        vertical-align: middle;\n",
       "    }\n",
       "\n",
       "    .dataframe tbody tr th {\n",
       "        vertical-align: top;\n",
       "    }\n",
       "\n",
       "    .dataframe thead th {\n",
       "        text-align: right;\n",
       "    }\n",
       "</style>\n",
       "<table border=\"1\" class=\"dataframe\">\n",
       "  <thead>\n",
       "    <tr style=\"text-align: right;\">\n",
       "      <th></th>\n",
       "      <th>ListingKey</th>\n",
       "      <th>ListingNumber</th>\n",
       "      <th>ListingCreationDate</th>\n",
       "      <th>CreditGrade</th>\n",
       "      <th>Term</th>\n",
       "      <th>LoanStatus</th>\n",
       "      <th>ClosedDate</th>\n",
       "      <th>BorrowerAPR</th>\n",
       "      <th>BorrowerRate</th>\n",
       "      <th>LenderYield</th>\n",
       "      <th>...</th>\n",
       "      <th>LP_ServiceFees</th>\n",
       "      <th>LP_CollectionFees</th>\n",
       "      <th>LP_GrossPrincipalLoss</th>\n",
       "      <th>LP_NetPrincipalLoss</th>\n",
       "      <th>LP_NonPrincipalRecoverypayments</th>\n",
       "      <th>PercentFunded</th>\n",
       "      <th>Recommendations</th>\n",
       "      <th>InvestmentFromFriendsCount</th>\n",
       "      <th>InvestmentFromFriendsAmount</th>\n",
       "      <th>Investors</th>\n",
       "    </tr>\n",
       "  </thead>\n",
       "  <tbody>\n",
       "    <tr>\n",
       "      <th>0</th>\n",
       "      <td>1021339766868145413AB3B</td>\n",
       "      <td>193129</td>\n",
       "      <td>2007-08-26 19:09:29.263000000</td>\n",
       "      <td>C</td>\n",
       "      <td>36</td>\n",
       "      <td>Completed</td>\n",
       "      <td>2009-08-14 00:00:00</td>\n",
       "      <td>0.16516</td>\n",
       "      <td>0.158</td>\n",
       "      <td>0.138</td>\n",
       "      <td>...</td>\n",
       "      <td>-133.18</td>\n",
       "      <td>0.0</td>\n",
       "      <td>0.0</td>\n",
       "      <td>0.0</td>\n",
       "      <td>0.0</td>\n",
       "      <td>1.0</td>\n",
       "      <td>0</td>\n",
       "      <td>0</td>\n",
       "      <td>0.0</td>\n",
       "      <td>258</td>\n",
       "    </tr>\n",
       "    <tr>\n",
       "      <th>1</th>\n",
       "      <td>10273602499503308B223C1</td>\n",
       "      <td>1209647</td>\n",
       "      <td>2014-02-27 08:28:07.900000000</td>\n",
       "      <td>NaN</td>\n",
       "      <td>36</td>\n",
       "      <td>Current</td>\n",
       "      <td>NaN</td>\n",
       "      <td>0.12016</td>\n",
       "      <td>0.092</td>\n",
       "      <td>0.082</td>\n",
       "      <td>...</td>\n",
       "      <td>0.00</td>\n",
       "      <td>0.0</td>\n",
       "      <td>0.0</td>\n",
       "      <td>0.0</td>\n",
       "      <td>0.0</td>\n",
       "      <td>1.0</td>\n",
       "      <td>0</td>\n",
       "      <td>0</td>\n",
       "      <td>0.0</td>\n",
       "      <td>1</td>\n",
       "    </tr>\n",
       "  </tbody>\n",
       "</table>\n",
       "<p>2 rows × 81 columns</p>\n",
       "</div>"
      ],
      "text/plain": [
       "                ListingKey  ListingNumber            ListingCreationDate  \\\n",
       "0  1021339766868145413AB3B         193129  2007-08-26 19:09:29.263000000   \n",
       "1  10273602499503308B223C1        1209647  2014-02-27 08:28:07.900000000   \n",
       "\n",
       "  CreditGrade  Term LoanStatus           ClosedDate  BorrowerAPR  \\\n",
       "0           C    36  Completed  2009-08-14 00:00:00      0.16516   \n",
       "1         NaN    36    Current                  NaN      0.12016   \n",
       "\n",
       "   BorrowerRate  LenderYield  ...  LP_ServiceFees  LP_CollectionFees  \\\n",
       "0         0.158        0.138  ...         -133.18                0.0   \n",
       "1         0.092        0.082  ...            0.00                0.0   \n",
       "\n",
       "   LP_GrossPrincipalLoss  LP_NetPrincipalLoss LP_NonPrincipalRecoverypayments  \\\n",
       "0                    0.0                  0.0                             0.0   \n",
       "1                    0.0                  0.0                             0.0   \n",
       "\n",
       "   PercentFunded  Recommendations InvestmentFromFriendsCount  \\\n",
       "0            1.0                0                          0   \n",
       "1            1.0                0                          0   \n",
       "\n",
       "  InvestmentFromFriendsAmount Investors  \n",
       "0                         0.0       258  \n",
       "1                         0.0         1  \n",
       "\n",
       "[2 rows x 81 columns]"
      ]
     },
     "execution_count": 2,
     "metadata": {},
     "output_type": "execute_result"
    }
   ],
   "source": [
    "df = pd.read_csv(\"prosperLoanData.csv\")\n",
    "df.head(2)"
   ]
  },
  {
   "cell_type": "code",
   "execution_count": 3,
   "metadata": {},
   "outputs": [
    {
     "data": {
      "text/plain": [
       "Index(['ListingKey', 'ListingNumber', 'ListingCreationDate', 'CreditGrade',\n",
       "       'Term', 'LoanStatus', 'ClosedDate', 'BorrowerAPR', 'BorrowerRate',\n",
       "       'LenderYield', 'EstimatedEffectiveYield', 'EstimatedLoss',\n",
       "       'EstimatedReturn', 'ProsperRating (numeric)', 'ProsperRating (Alpha)',\n",
       "       'ProsperScore', 'ListingCategory (numeric)', 'BorrowerState',\n",
       "       'Occupation', 'EmploymentStatus', 'EmploymentStatusDuration',\n",
       "       'IsBorrowerHomeowner', 'CurrentlyInGroup', 'GroupKey',\n",
       "       'DateCreditPulled', 'CreditScoreRangeLower', 'CreditScoreRangeUpper',\n",
       "       'FirstRecordedCreditLine', 'CurrentCreditLines', 'OpenCreditLines',\n",
       "       'TotalCreditLinespast7years', 'OpenRevolvingAccounts',\n",
       "       'OpenRevolvingMonthlyPayment', 'InquiriesLast6Months', 'TotalInquiries',\n",
       "       'CurrentDelinquencies', 'AmountDelinquent', 'DelinquenciesLast7Years',\n",
       "       'PublicRecordsLast10Years', 'PublicRecordsLast12Months',\n",
       "       'RevolvingCreditBalance', 'BankcardUtilization',\n",
       "       'AvailableBankcardCredit', 'TotalTrades',\n",
       "       'TradesNeverDelinquent (percentage)', 'TradesOpenedLast6Months',\n",
       "       'DebtToIncomeRatio', 'IncomeRange', 'IncomeVerifiable',\n",
       "       'StatedMonthlyIncome', 'LoanKey', 'TotalProsperLoans',\n",
       "       'TotalProsperPaymentsBilled', 'OnTimeProsperPayments',\n",
       "       'ProsperPaymentsLessThanOneMonthLate',\n",
       "       'ProsperPaymentsOneMonthPlusLate', 'ProsperPrincipalBorrowed',\n",
       "       'ProsperPrincipalOutstanding', 'ScorexChangeAtTimeOfListing',\n",
       "       'LoanCurrentDaysDelinquent', 'LoanFirstDefaultedCycleNumber',\n",
       "       'LoanMonthsSinceOrigination', 'LoanNumber', 'LoanOriginalAmount',\n",
       "       'LoanOriginationDate', 'LoanOriginationQuarter', 'MemberKey',\n",
       "       'MonthlyLoanPayment', 'LP_CustomerPayments',\n",
       "       'LP_CustomerPrincipalPayments', 'LP_InterestandFees', 'LP_ServiceFees',\n",
       "       'LP_CollectionFees', 'LP_GrossPrincipalLoss', 'LP_NetPrincipalLoss',\n",
       "       'LP_NonPrincipalRecoverypayments', 'PercentFunded', 'Recommendations',\n",
       "       'InvestmentFromFriendsCount', 'InvestmentFromFriendsAmount',\n",
       "       'Investors'],\n",
       "      dtype='object')"
      ]
     },
     "execution_count": 3,
     "metadata": {},
     "output_type": "execute_result"
    }
   ],
   "source": [
    "df.columns"
   ]
  },
  {
   "cell_type": "code",
   "execution_count": 4,
   "metadata": {},
   "outputs": [],
   "source": [
    "# Since there are lot of columns in our dataset, i will select only those dataset that is needed to answer my questions\n",
    "cols = ['Term' , \n",
    "        'LoanStatus', \n",
    "        'EstimatedEffectiveYield' ,  \n",
    "        'BorrowerAPR' , \n",
    "        'BorrowerRate' , \n",
    "        'ProsperRating (numeric)',\n",
    "        'ProsperRating (Alpha)',\n",
    "        'ProsperScore',                     \n",
    "        'ListingCategory (numeric)', \n",
    "        'EmploymentStatus',\n",
    "        'Occupation', \n",
    "        'EmploymentStatusDuration', \n",
    "        'IsBorrowerHomeowner', \n",
    "        'IncomeVerifiable', \n",
    "        'StatedMonthlyIncome', \n",
    "        'MonthlyLoanPayment',\n",
    "        'Recommendations', \n",
    "        'DebtToIncomeRatio',\n",
    "        'LoanOriginalAmount' ,\n",
    "        'PercentFunded',\n",
    "        'IncomeRange',\n",
    "        'Investors',\n",
    "        'BorrowerState']\n"
   ]
  },
  {
   "cell_type": "code",
   "execution_count": 12,
   "metadata": {},
   "outputs": [
    {
     "data": {
      "text/html": [
       "<div>\n",
       "<style scoped>\n",
       "    .dataframe tbody tr th:only-of-type {\n",
       "        vertical-align: middle;\n",
       "    }\n",
       "\n",
       "    .dataframe tbody tr th {\n",
       "        vertical-align: top;\n",
       "    }\n",
       "\n",
       "    .dataframe thead th {\n",
       "        text-align: right;\n",
       "    }\n",
       "</style>\n",
       "<table border=\"1\" class=\"dataframe\">\n",
       "  <thead>\n",
       "    <tr style=\"text-align: right;\">\n",
       "      <th></th>\n",
       "      <th>Term</th>\n",
       "      <th>LoanStatus</th>\n",
       "      <th>EstimatedEffectiveYield</th>\n",
       "      <th>BorrowerAPR</th>\n",
       "      <th>BorrowerRate</th>\n",
       "      <th>ProsperRating (numeric)</th>\n",
       "      <th>ProsperRating (Alpha)</th>\n",
       "      <th>ProsperScore</th>\n",
       "      <th>ListingCategory (numeric)</th>\n",
       "      <th>EmploymentStatus</th>\n",
       "      <th>...</th>\n",
       "      <th>IncomeVerifiable</th>\n",
       "      <th>StatedMonthlyIncome</th>\n",
       "      <th>MonthlyLoanPayment</th>\n",
       "      <th>Recommendations</th>\n",
       "      <th>DebtToIncomeRatio</th>\n",
       "      <th>LoanOriginalAmount</th>\n",
       "      <th>PercentFunded</th>\n",
       "      <th>IncomeRange</th>\n",
       "      <th>Investors</th>\n",
       "      <th>BorrowerState</th>\n",
       "    </tr>\n",
       "  </thead>\n",
       "  <tbody>\n",
       "    <tr>\n",
       "      <th>0</th>\n",
       "      <td>36</td>\n",
       "      <td>Completed</td>\n",
       "      <td>NaN</td>\n",
       "      <td>0.16516</td>\n",
       "      <td>0.158</td>\n",
       "      <td>NaN</td>\n",
       "      <td>NaN</td>\n",
       "      <td>NaN</td>\n",
       "      <td>0</td>\n",
       "      <td>Self-employed</td>\n",
       "      <td>...</td>\n",
       "      <td>True</td>\n",
       "      <td>3083.333333</td>\n",
       "      <td>330.43</td>\n",
       "      <td>0</td>\n",
       "      <td>0.17</td>\n",
       "      <td>9425</td>\n",
       "      <td>1.0</td>\n",
       "      <td>$25,000-49,999</td>\n",
       "      <td>258</td>\n",
       "      <td>CO</td>\n",
       "    </tr>\n",
       "    <tr>\n",
       "      <th>1</th>\n",
       "      <td>36</td>\n",
       "      <td>Current</td>\n",
       "      <td>0.0796</td>\n",
       "      <td>0.12016</td>\n",
       "      <td>0.092</td>\n",
       "      <td>6.0</td>\n",
       "      <td>A</td>\n",
       "      <td>7.0</td>\n",
       "      <td>2</td>\n",
       "      <td>Employed</td>\n",
       "      <td>...</td>\n",
       "      <td>True</td>\n",
       "      <td>6125.000000</td>\n",
       "      <td>318.93</td>\n",
       "      <td>0</td>\n",
       "      <td>0.18</td>\n",
       "      <td>10000</td>\n",
       "      <td>1.0</td>\n",
       "      <td>$50,000-74,999</td>\n",
       "      <td>1</td>\n",
       "      <td>CO</td>\n",
       "    </tr>\n",
       "  </tbody>\n",
       "</table>\n",
       "<p>2 rows × 23 columns</p>\n",
       "</div>"
      ],
      "text/plain": [
       "   Term LoanStatus  EstimatedEffectiveYield  BorrowerAPR  BorrowerRate  \\\n",
       "0    36  Completed                      NaN      0.16516         0.158   \n",
       "1    36    Current                   0.0796      0.12016         0.092   \n",
       "\n",
       "   ProsperRating (numeric) ProsperRating (Alpha)  ProsperScore  \\\n",
       "0                      NaN                   NaN           NaN   \n",
       "1                      6.0                     A           7.0   \n",
       "\n",
       "   ListingCategory (numeric) EmploymentStatus  ... IncomeVerifiable  \\\n",
       "0                          0    Self-employed  ...             True   \n",
       "1                          2         Employed  ...             True   \n",
       "\n",
       "   StatedMonthlyIncome  MonthlyLoanPayment  Recommendations  \\\n",
       "0          3083.333333              330.43                0   \n",
       "1          6125.000000              318.93                0   \n",
       "\n",
       "   DebtToIncomeRatio  LoanOriginalAmount  PercentFunded     IncomeRange  \\\n",
       "0               0.17                9425            1.0  $25,000-49,999   \n",
       "1               0.18               10000            1.0  $50,000-74,999   \n",
       "\n",
       "   Investors  BorrowerState  \n",
       "0        258             CO  \n",
       "1          1             CO  \n",
       "\n",
       "[2 rows x 23 columns]"
      ]
     },
     "execution_count": 12,
     "metadata": {},
     "output_type": "execute_result"
    }
   ],
   "source": [
    "loan_df = df[cols]\n",
    "loan_df.head(2)"
   ]
  },
  {
   "cell_type": "code",
   "execution_count": 14,
   "metadata": {},
   "outputs": [
    {
     "name": "stdout",
     "output_type": "stream",
     "text": [
      "<class 'pandas.core.frame.DataFrame'>\n",
      "RangeIndex: 113937 entries, 0 to 113936\n",
      "Data columns (total 23 columns):\n",
      " #   Column                     Non-Null Count   Dtype  \n",
      "---  ------                     --------------   -----  \n",
      " 0   Term                       113937 non-null  int64  \n",
      " 1   LoanStatus                 113937 non-null  object \n",
      " 2   EstimatedEffectiveYield    84853 non-null   float64\n",
      " 3   BorrowerAPR                113912 non-null  float64\n",
      " 4   BorrowerRate               113937 non-null  float64\n",
      " 5   ProsperRating (numeric)    84853 non-null   float64\n",
      " 6   ProsperRating (Alpha)      84853 non-null   object \n",
      " 7   ProsperScore               84853 non-null   float64\n",
      " 8   ListingCategory (numeric)  113937 non-null  int64  \n",
      " 9   EmploymentStatus           111682 non-null  object \n",
      " 10  Occupation                 110349 non-null  object \n",
      " 11  EmploymentStatusDuration   106312 non-null  float64\n",
      " 12  IsBorrowerHomeowner        113937 non-null  bool   \n",
      " 13  IncomeVerifiable           113937 non-null  bool   \n",
      " 14  StatedMonthlyIncome        113937 non-null  float64\n",
      " 15  MonthlyLoanPayment         113937 non-null  float64\n",
      " 16  Recommendations            113937 non-null  int64  \n",
      " 17  DebtToIncomeRatio          105383 non-null  float64\n",
      " 18  LoanOriginalAmount         113937 non-null  int64  \n",
      " 19  PercentFunded              113937 non-null  float64\n",
      " 20  IncomeRange                113937 non-null  object \n",
      " 21  Investors                  113937 non-null  int64  \n",
      " 22  BorrowerState              108422 non-null  object \n",
      "dtypes: bool(2), float64(10), int64(5), object(6)\n",
      "memory usage: 18.5+ MB\n"
     ]
    }
   ],
   "source": [
    "loan_df.info()"
   ]
  },
  {
   "cell_type": "code",
   "execution_count": 16,
   "metadata": {},
   "outputs": [],
   "source": [
    "# changing the some columns names\n",
    "loan_df.rename(columns={'ProsperRating (Alpha)': 'ProsperRating_Alpha', \n",
    "                        'ProsperRating (numeric)': 'ProsperRating_Numeric',\n",
    "                        'ListingCategory (numeric)' : 'ListingCategory_Numeric'\n",
    "                       }, inplace=True)"
   ]
  },
  {
   "cell_type": "code",
   "execution_count": 17,
   "metadata": {},
   "outputs": [
    {
     "name": "stdout",
     "output_type": "stream",
     "text": [
      "<class 'pandas.core.frame.DataFrame'>\n",
      "RangeIndex: 113937 entries, 0 to 113936\n",
      "Data columns (total 23 columns):\n",
      " #   Column                    Non-Null Count   Dtype  \n",
      "---  ------                    --------------   -----  \n",
      " 0   Term                      113937 non-null  int64  \n",
      " 1   LoanStatus                113937 non-null  object \n",
      " 2   EstimatedEffectiveYield   84853 non-null   float64\n",
      " 3   BorrowerAPR               113912 non-null  float64\n",
      " 4   BorrowerRate              113937 non-null  float64\n",
      " 5   ProsperRating_Numeric     84853 non-null   float64\n",
      " 6   ProsperRating_Alpha       84853 non-null   object \n",
      " 7   ProsperScore              84853 non-null   float64\n",
      " 8   ListingCategory_Numeric   113937 non-null  int64  \n",
      " 9   EmploymentStatus          111682 non-null  object \n",
      " 10  Occupation                110349 non-null  object \n",
      " 11  EmploymentStatusDuration  106312 non-null  float64\n",
      " 12  IsBorrowerHomeowner       113937 non-null  bool   \n",
      " 13  IncomeVerifiable          113937 non-null  bool   \n",
      " 14  StatedMonthlyIncome       113937 non-null  float64\n",
      " 15  MonthlyLoanPayment        113937 non-null  float64\n",
      " 16  Recommendations           113937 non-null  int64  \n",
      " 17  DebtToIncomeRatio         105383 non-null  float64\n",
      " 18  LoanOriginalAmount        113937 non-null  int64  \n",
      " 19  PercentFunded             113937 non-null  float64\n",
      " 20  IncomeRange               113937 non-null  object \n",
      " 21  Investors                 113937 non-null  int64  \n",
      " 22  BorrowerState             108422 non-null  object \n",
      "dtypes: bool(2), float64(10), int64(5), object(6)\n",
      "memory usage: 18.5+ MB\n"
     ]
    }
   ],
   "source": [
    "loan_df.info()"
   ]
  },
  {
   "cell_type": "code",
   "execution_count": 7,
   "metadata": {},
   "outputs": [
    {
     "data": {
      "text/plain": [
       "Term                             0\n",
       "LoanStatus                       0\n",
       "EstimatedEffectiveYield      29084\n",
       "BorrowerAPR                     25\n",
       "BorrowerRate                     0\n",
       "ProsperRating (numeric)      29084\n",
       "ProsperRating (Alpha)        29084\n",
       "ProsperScore                 29084\n",
       "ListingCategory (numeric)        0\n",
       "EmploymentStatus              2255\n",
       "Occupation                    3588\n",
       "EmploymentStatusDuration      7625\n",
       "IsBorrowerHomeowner              0\n",
       "IncomeVerifiable                 0\n",
       "StatedMonthlyIncome              0\n",
       "MonthlyLoanPayment               0\n",
       "Recommendations                  0\n",
       "DebtToIncomeRatio             8554\n",
       "LoanOriginalAmount               0\n",
       "PercentFunded                    0\n",
       "IncomeRange                      0\n",
       "Investors                        0\n",
       "BorrowerState                 5515\n",
       "dtype: int64"
      ]
     },
     "execution_count": 7,
     "metadata": {},
     "output_type": "execute_result"
    }
   ],
   "source": [
    "loan_df.isnull().sum()"
   ]
  },
  {
   "cell_type": "code",
   "execution_count": 8,
   "metadata": {},
   "outputs": [],
   "source": [
    "# As this project is more focused on visulization , for simplicity i am going to clean all null rows from the above data set \n",
    "loan_df = loan_df.dropna()"
   ]
  },
  {
   "cell_type": "code",
   "execution_count": 23,
   "metadata": {},
   "outputs": [
    {
     "data": {
      "text/plain": [
       "Term                            0\n",
       "LoanStatus                      0\n",
       "EstimatedEffectiveYield     29084\n",
       "BorrowerAPR                    25\n",
       "BorrowerRate                    0\n",
       "ProsperRating_Numeric       29084\n",
       "ProsperRating_Alpha         29084\n",
       "ProsperScore                29084\n",
       "ListingCategory_Numeric         0\n",
       "EmploymentStatus             2255\n",
       "Occupation                   3588\n",
       "EmploymentStatusDuration     7625\n",
       "IsBorrowerHomeowner             0\n",
       "IncomeVerifiable                0\n",
       "StatedMonthlyIncome             0\n",
       "MonthlyLoanPayment              0\n",
       "Recommendations                 0\n",
       "DebtToIncomeRatio            8554\n",
       "LoanOriginalAmount              0\n",
       "PercentFunded                   0\n",
       "IncomeRange                     0\n",
       "Investors                       0\n",
       "BorrowerState                5515\n",
       "dtype: int64"
      ]
     },
     "execution_count": 23,
     "metadata": {},
     "output_type": "execute_result"
    }
   ],
   "source": [
    "#checking for null values after cleaning\n",
    "loan_df.isnull().sum()"
   ]
  },
  {
   "cell_type": "markdown",
   "metadata": {},
   "source": [
    "### Identifying categoralcal varibale that are in order data type  and changing to category data type if its not in cateory data type"
   ]
  },
  {
   "cell_type": "code",
   "execution_count": 51,
   "metadata": {},
   "outputs": [
    {
     "name": "stdout",
     "output_type": "stream",
     "text": [
      "<class 'pandas.core.frame.DataFrame'>\n",
      "RangeIndex: 113937 entries, 0 to 113936\n",
      "Data columns (total 23 columns):\n",
      " #   Column                    Non-Null Count   Dtype   \n",
      "---  ------                    --------------   -----   \n",
      " 0   Term                      113937 non-null  category\n",
      " 1   LoanStatus                113937 non-null  category\n",
      " 2   EstimatedEffectiveYield   84853 non-null   float64 \n",
      " 3   BorrowerAPR               113912 non-null  float64 \n",
      " 4   BorrowerRate              113937 non-null  float64 \n",
      " 5   ProsperRating_Numeric     84853 non-null   float64 \n",
      " 6   ProsperRating_Alpha       84853 non-null   category\n",
      " 7   ProsperScore              84853 non-null   float64 \n",
      " 8   ListingCategory_Numeric   113937 non-null  int64   \n",
      " 9   EmploymentStatus          111682 non-null  category\n",
      " 10  Occupation                110349 non-null  category\n",
      " 11  EmploymentStatusDuration  106312 non-null  float64 \n",
      " 12  IsBorrowerHomeowner       113937 non-null  bool    \n",
      " 13  IncomeVerifiable          113937 non-null  bool    \n",
      " 14  StatedMonthlyIncome       113937 non-null  float64 \n",
      " 15  MonthlyLoanPayment        113937 non-null  float64 \n",
      " 16  Recommendations           113937 non-null  int64   \n",
      " 17  DebtToIncomeRatio         105383 non-null  float64 \n",
      " 18  LoanOriginalAmount        113937 non-null  int64   \n",
      " 19  PercentFunded             113937 non-null  float64 \n",
      " 20  IncomeRange               113937 non-null  category\n",
      " 21  Investors                 113937 non-null  int64   \n",
      " 22  BorrowerState             108422 non-null  category\n",
      "dtypes: bool(2), category(7), float64(10), int64(4)\n",
      "memory usage: 13.2 MB\n"
     ]
    }
   ],
   "source": [
    "loan_df.info()"
   ]
  },
  {
   "cell_type": "markdown",
   "metadata": {},
   "source": [
    "#### 1. Term"
   ]
  },
  {
   "cell_type": "code",
   "execution_count": 25,
   "metadata": {},
   "outputs": [
    {
     "data": {
      "text/plain": [
       "36    87778\n",
       "60    24545\n",
       "12     1614\n",
       "Name: Term, dtype: int64"
      ]
     },
     "execution_count": 25,
     "metadata": {},
     "output_type": "execute_result"
    }
   ],
   "source": [
    "loan_df[\"Term\"].value_counts()"
   ]
  },
  {
   "cell_type": "code",
   "execution_count": 46,
   "metadata": {},
   "outputs": [
    {
     "name": "stderr",
     "output_type": "stream",
     "text": [
      "C:\\Users\\DELL\\anaconda3\\lib\\site-packages\\ipykernel_launcher.py:2: SettingWithCopyWarning: \n",
      "A value is trying to be set on a copy of a slice from a DataFrame.\n",
      "Try using .loc[row_indexer,col_indexer] = value instead\n",
      "\n",
      "See the caveats in the documentation: https://pandas.pydata.org/pandas-docs/stable/user_guide/indexing.html#returning-a-view-versus-a-copy\n",
      "  \n"
     ]
    }
   ],
   "source": [
    "# since the term column is cateogorical , converting its data type from int to category\n",
    "loan_df['Term'] = loan_df['Term'].astype('category')"
   ]
  },
  {
   "cell_type": "markdown",
   "metadata": {},
   "source": [
    "#### 2. EmploymentStatus"
   ]
  },
  {
   "cell_type": "code",
   "execution_count": 34,
   "metadata": {},
   "outputs": [
    {
     "data": {
      "text/plain": [
       "Employed         67322\n",
       "Full-time        26355\n",
       "Self-employed     6134\n",
       "Not available     5347\n",
       "Other             3806\n",
       "Part-time         1088\n",
       "Not employed       835\n",
       "Retired            795\n",
       "Name: EmploymentStatus, dtype: int64"
      ]
     },
     "execution_count": 34,
     "metadata": {},
     "output_type": "execute_result"
    }
   ],
   "source": [
    "loan_df[\"EmploymentStatus\"].value_counts()"
   ]
  },
  {
   "cell_type": "code",
   "execution_count": 35,
   "metadata": {},
   "outputs": [
    {
     "name": "stderr",
     "output_type": "stream",
     "text": [
      "C:\\Users\\DELL\\anaconda3\\lib\\site-packages\\ipykernel_launcher.py:1: SettingWithCopyWarning: \n",
      "A value is trying to be set on a copy of a slice from a DataFrame.\n",
      "Try using .loc[row_indexer,col_indexer] = value instead\n",
      "\n",
      "See the caveats in the documentation: https://pandas.pydata.org/pandas-docs/stable/user_guide/indexing.html#returning-a-view-versus-a-copy\n",
      "  \"\"\"Entry point for launching an IPython kernel.\n"
     ]
    }
   ],
   "source": [
    "loan_df['EmploymentStatus'] = loan_df['EmploymentStatus'].astype('category')"
   ]
  },
  {
   "cell_type": "markdown",
   "metadata": {},
   "source": [
    "#### 3. LoanStatus"
   ]
  },
  {
   "cell_type": "code",
   "execution_count": 27,
   "metadata": {},
   "outputs": [
    {
     "data": {
      "text/plain": [
       "Current                   56576\n",
       "Completed                 38074\n",
       "Chargedoff                11992\n",
       "Defaulted                  5018\n",
       "Past Due (1-15 days)        806\n",
       "Past Due (31-60 days)       363\n",
       "Past Due (61-90 days)       313\n",
       "Past Due (91-120 days)      304\n",
       "Past Due (16-30 days)       265\n",
       "FinalPaymentInProgress      205\n",
       "Past Due (>120 days)         16\n",
       "Cancelled                     5\n",
       "Name: LoanStatus, dtype: int64"
      ]
     },
     "execution_count": 27,
     "metadata": {},
     "output_type": "execute_result"
    }
   ],
   "source": [
    "loan_df[\"LoanStatus\"].value_counts()"
   ]
  },
  {
   "cell_type": "code",
   "execution_count": 29,
   "metadata": {},
   "outputs": [
    {
     "name": "stderr",
     "output_type": "stream",
     "text": [
      "C:\\Users\\DELL\\anaconda3\\lib\\site-packages\\ipykernel_launcher.py:1: SettingWithCopyWarning: \n",
      "A value is trying to be set on a copy of a slice from a DataFrame.\n",
      "Try using .loc[row_indexer,col_indexer] = value instead\n",
      "\n",
      "See the caveats in the documentation: https://pandas.pydata.org/pandas-docs/stable/user_guide/indexing.html#returning-a-view-versus-a-copy\n",
      "  \"\"\"Entry point for launching an IPython kernel.\n"
     ]
    }
   ],
   "source": [
    "loan_df['LoanStatus'] = loan_df['LoanStatus'].astype('category')"
   ]
  },
  {
   "cell_type": "markdown",
   "metadata": {},
   "source": [
    "#### 4. IncomeRange"
   ]
  },
  {
   "cell_type": "code",
   "execution_count": 37,
   "metadata": {},
   "outputs": [
    {
     "data": {
      "text/plain": [
       "$25,000-49,999    32192\n",
       "$50,000-74,999    31050\n",
       "$100,000+         17337\n",
       "$75,000-99,999    16916\n",
       "Not displayed      7741\n",
       "$1-24,999          7274\n",
       "Not employed        806\n",
       "$0                  621\n",
       "Name: IncomeRange, dtype: int64"
      ]
     },
     "execution_count": 37,
     "metadata": {},
     "output_type": "execute_result"
    }
   ],
   "source": [
    "loan_df[\"IncomeRange\"].value_counts()"
   ]
  },
  {
   "cell_type": "code",
   "execution_count": 38,
   "metadata": {},
   "outputs": [
    {
     "name": "stderr",
     "output_type": "stream",
     "text": [
      "C:\\Users\\DELL\\anaconda3\\lib\\site-packages\\ipykernel_launcher.py:1: SettingWithCopyWarning: \n",
      "A value is trying to be set on a copy of a slice from a DataFrame.\n",
      "Try using .loc[row_indexer,col_indexer] = value instead\n",
      "\n",
      "See the caveats in the documentation: https://pandas.pydata.org/pandas-docs/stable/user_guide/indexing.html#returning-a-view-versus-a-copy\n",
      "  \"\"\"Entry point for launching an IPython kernel.\n"
     ]
    }
   ],
   "source": [
    "loan_df['IncomeRange'] = loan_df['IncomeRange'].astype('category')"
   ]
  },
  {
   "cell_type": "markdown",
   "metadata": {},
   "source": [
    "#### 5. ProsperRating_Alpha"
   ]
  },
  {
   "cell_type": "code",
   "execution_count": 40,
   "metadata": {},
   "outputs": [
    {
     "data": {
      "text/plain": [
       "C     18345\n",
       "B     15581\n",
       "A     14551\n",
       "D     14274\n",
       "E      9795\n",
       "HR     6935\n",
       "AA     5372\n",
       "Name: ProsperRating_Alpha, dtype: int64"
      ]
     },
     "execution_count": 40,
     "metadata": {},
     "output_type": "execute_result"
    }
   ],
   "source": [
    "loan_df[\"ProsperRating_Alpha\"].value_counts()"
   ]
  },
  {
   "cell_type": "code",
   "execution_count": 42,
   "metadata": {},
   "outputs": [
    {
     "name": "stderr",
     "output_type": "stream",
     "text": [
      "C:\\Users\\DELL\\anaconda3\\lib\\site-packages\\ipykernel_launcher.py:1: SettingWithCopyWarning: \n",
      "A value is trying to be set on a copy of a slice from a DataFrame.\n",
      "Try using .loc[row_indexer,col_indexer] = value instead\n",
      "\n",
      "See the caveats in the documentation: https://pandas.pydata.org/pandas-docs/stable/user_guide/indexing.html#returning-a-view-versus-a-copy\n",
      "  \"\"\"Entry point for launching an IPython kernel.\n"
     ]
    }
   ],
   "source": [
    "loan_df['ProsperRating_Alpha'] = loan_df['ProsperRating_Alpha'].astype('category')"
   ]
  },
  {
   "cell_type": "markdown",
   "metadata": {},
   "source": [
    "#### 6. Occupation"
   ]
  },
  {
   "cell_type": "code",
   "execution_count": 45,
   "metadata": {},
   "outputs": [
    {
     "data": {
      "text/plain": [
       "Other                          28617\n",
       "Professional                   13628\n",
       "Computer Programmer             4478\n",
       "Executive                       4311\n",
       "Teacher                         3759\n",
       "                               ...  \n",
       "Dentist                           68\n",
       "Student - College Freshman        41\n",
       "Student - Community College       28\n",
       "Judge                             22\n",
       "Student - Technical School        16\n",
       "Name: Occupation, Length: 67, dtype: int64"
      ]
     },
     "execution_count": 45,
     "metadata": {},
     "output_type": "execute_result"
    }
   ],
   "source": [
    "loan_df[\"Occupation\"].value_counts()"
   ]
  },
  {
   "cell_type": "code",
   "execution_count": 47,
   "metadata": {},
   "outputs": [
    {
     "name": "stderr",
     "output_type": "stream",
     "text": [
      "C:\\Users\\DELL\\anaconda3\\lib\\site-packages\\ipykernel_launcher.py:1: SettingWithCopyWarning: \n",
      "A value is trying to be set on a copy of a slice from a DataFrame.\n",
      "Try using .loc[row_indexer,col_indexer] = value instead\n",
      "\n",
      "See the caveats in the documentation: https://pandas.pydata.org/pandas-docs/stable/user_guide/indexing.html#returning-a-view-versus-a-copy\n",
      "  \"\"\"Entry point for launching an IPython kernel.\n"
     ]
    }
   ],
   "source": [
    "loan_df['Occupation'] = loan_df['Occupation'].astype('category')"
   ]
  },
  {
   "cell_type": "markdown",
   "metadata": {},
   "source": [
    "#### 7. BorrowerState"
   ]
  },
  {
   "cell_type": "code",
   "execution_count": 48,
   "metadata": {},
   "outputs": [
    {
     "data": {
      "text/plain": [
       "CA    14717\n",
       "TX     6842\n",
       "NY     6729\n",
       "FL     6720\n",
       "IL     5921\n",
       "GA     5008\n",
       "OH     4197\n",
       "MI     3593\n",
       "VA     3278\n",
       "NJ     3097\n",
       "NC     3084\n",
       "WA     3048\n",
       "PA     2972\n",
       "MD     2821\n",
       "MO     2615\n",
       "MN     2318\n",
       "MA     2242\n",
       "CO     2210\n",
       "IN     2078\n",
       "AZ     1901\n",
       "WI     1842\n",
       "OR     1817\n",
       "TN     1737\n",
       "AL     1679\n",
       "CT     1627\n",
       "SC     1122\n",
       "NV     1090\n",
       "KS     1062\n",
       "KY      983\n",
       "OK      971\n",
       "LA      954\n",
       "UT      877\n",
       "AR      855\n",
       "MS      787\n",
       "NE      674\n",
       "ID      599\n",
       "NH      551\n",
       "NM      472\n",
       "RI      435\n",
       "HI      409\n",
       "WV      391\n",
       "DC      382\n",
       "MT      330\n",
       "DE      300\n",
       "VT      207\n",
       "AK      200\n",
       "SD      189\n",
       "IA      186\n",
       "WY      150\n",
       "ME      101\n",
       "ND       52\n",
       "Name: BorrowerState, dtype: int64"
      ]
     },
     "execution_count": 48,
     "metadata": {},
     "output_type": "execute_result"
    }
   ],
   "source": [
    "loan_df[\"BorrowerState\"].value_counts()"
   ]
  },
  {
   "cell_type": "code",
   "execution_count": 49,
   "metadata": {},
   "outputs": [
    {
     "name": "stderr",
     "output_type": "stream",
     "text": [
      "C:\\Users\\DELL\\anaconda3\\lib\\site-packages\\ipykernel_launcher.py:1: SettingWithCopyWarning: \n",
      "A value is trying to be set on a copy of a slice from a DataFrame.\n",
      "Try using .loc[row_indexer,col_indexer] = value instead\n",
      "\n",
      "See the caveats in the documentation: https://pandas.pydata.org/pandas-docs/stable/user_guide/indexing.html#returning-a-view-versus-a-copy\n",
      "  \"\"\"Entry point for launching an IPython kernel.\n"
     ]
    }
   ],
   "source": [
    "loan_df['BorrowerState'] = loan_df['BorrowerState'].astype('category')"
   ]
  },
  {
   "cell_type": "code",
   "execution_count": null,
   "metadata": {},
   "outputs": [],
   "source": []
  },
  {
   "cell_type": "code",
   "execution_count": 52,
   "metadata": {},
   "outputs": [
    {
     "name": "stdout",
     "output_type": "stream",
     "text": [
      "<class 'pandas.core.frame.DataFrame'>\n",
      "RangeIndex: 113937 entries, 0 to 113936\n",
      "Data columns (total 23 columns):\n",
      " #   Column                    Non-Null Count   Dtype   \n",
      "---  ------                    --------------   -----   \n",
      " 0   Term                      113937 non-null  category\n",
      " 1   LoanStatus                113937 non-null  category\n",
      " 2   EstimatedEffectiveYield   84853 non-null   float64 \n",
      " 3   BorrowerAPR               113912 non-null  float64 \n",
      " 4   BorrowerRate              113937 non-null  float64 \n",
      " 5   ProsperRating_Numeric     84853 non-null   float64 \n",
      " 6   ProsperRating_Alpha       84853 non-null   category\n",
      " 7   ProsperScore              84853 non-null   float64 \n",
      " 8   ListingCategory_Numeric   113937 non-null  int64   \n",
      " 9   EmploymentStatus          111682 non-null  category\n",
      " 10  Occupation                110349 non-null  category\n",
      " 11  EmploymentStatusDuration  106312 non-null  float64 \n",
      " 12  IsBorrowerHomeowner       113937 non-null  bool    \n",
      " 13  IncomeVerifiable          113937 non-null  bool    \n",
      " 14  StatedMonthlyIncome       113937 non-null  float64 \n",
      " 15  MonthlyLoanPayment        113937 non-null  float64 \n",
      " 16  Recommendations           113937 non-null  int64   \n",
      " 17  DebtToIncomeRatio         105383 non-null  float64 \n",
      " 18  LoanOriginalAmount        113937 non-null  int64   \n",
      " 19  PercentFunded             113937 non-null  float64 \n",
      " 20  IncomeRange               113937 non-null  category\n",
      " 21  Investors                 113937 non-null  int64   \n",
      " 22  BorrowerState             108422 non-null  category\n",
      "dtypes: bool(2), category(7), float64(10), int64(4)\n",
      "memory usage: 13.2 MB\n"
     ]
    }
   ],
   "source": [
    "#checking weather the data type is converted or not \n",
    "loan_df.info()"
   ]
  },
  {
   "cell_type": "code",
   "execution_count": 53,
   "metadata": {},
   "outputs": [
    {
     "data": {
      "text/html": [
       "<div>\n",
       "<style scoped>\n",
       "    .dataframe tbody tr th:only-of-type {\n",
       "        vertical-align: middle;\n",
       "    }\n",
       "\n",
       "    .dataframe tbody tr th {\n",
       "        vertical-align: top;\n",
       "    }\n",
       "\n",
       "    .dataframe thead th {\n",
       "        text-align: right;\n",
       "    }\n",
       "</style>\n",
       "<table border=\"1\" class=\"dataframe\">\n",
       "  <thead>\n",
       "    <tr style=\"text-align: right;\">\n",
       "      <th></th>\n",
       "      <th>Term</th>\n",
       "      <th>LoanStatus</th>\n",
       "      <th>EstimatedEffectiveYield</th>\n",
       "      <th>BorrowerAPR</th>\n",
       "      <th>BorrowerRate</th>\n",
       "      <th>ProsperRating_Numeric</th>\n",
       "      <th>ProsperRating_Alpha</th>\n",
       "      <th>ProsperScore</th>\n",
       "      <th>ListingCategory_Numeric</th>\n",
       "      <th>EmploymentStatus</th>\n",
       "      <th>...</th>\n",
       "      <th>IncomeVerifiable</th>\n",
       "      <th>StatedMonthlyIncome</th>\n",
       "      <th>MonthlyLoanPayment</th>\n",
       "      <th>Recommendations</th>\n",
       "      <th>DebtToIncomeRatio</th>\n",
       "      <th>LoanOriginalAmount</th>\n",
       "      <th>PercentFunded</th>\n",
       "      <th>IncomeRange</th>\n",
       "      <th>Investors</th>\n",
       "      <th>BorrowerState</th>\n",
       "    </tr>\n",
       "  </thead>\n",
       "  <tbody>\n",
       "    <tr>\n",
       "      <th>0</th>\n",
       "      <td>36</td>\n",
       "      <td>Completed</td>\n",
       "      <td>NaN</td>\n",
       "      <td>0.16516</td>\n",
       "      <td>0.1580</td>\n",
       "      <td>NaN</td>\n",
       "      <td>NaN</td>\n",
       "      <td>NaN</td>\n",
       "      <td>0</td>\n",
       "      <td>Self-employed</td>\n",
       "      <td>...</td>\n",
       "      <td>True</td>\n",
       "      <td>3083.333333</td>\n",
       "      <td>330.43</td>\n",
       "      <td>0</td>\n",
       "      <td>0.17</td>\n",
       "      <td>9425</td>\n",
       "      <td>1.0</td>\n",
       "      <td>$25,000-49,999</td>\n",
       "      <td>258</td>\n",
       "      <td>CO</td>\n",
       "    </tr>\n",
       "    <tr>\n",
       "      <th>1</th>\n",
       "      <td>36</td>\n",
       "      <td>Current</td>\n",
       "      <td>0.07960</td>\n",
       "      <td>0.12016</td>\n",
       "      <td>0.0920</td>\n",
       "      <td>6.0</td>\n",
       "      <td>A</td>\n",
       "      <td>7.0</td>\n",
       "      <td>2</td>\n",
       "      <td>Employed</td>\n",
       "      <td>...</td>\n",
       "      <td>True</td>\n",
       "      <td>6125.000000</td>\n",
       "      <td>318.93</td>\n",
       "      <td>0</td>\n",
       "      <td>0.18</td>\n",
       "      <td>10000</td>\n",
       "      <td>1.0</td>\n",
       "      <td>$50,000-74,999</td>\n",
       "      <td>1</td>\n",
       "      <td>CO</td>\n",
       "    </tr>\n",
       "    <tr>\n",
       "      <th>2</th>\n",
       "      <td>36</td>\n",
       "      <td>Completed</td>\n",
       "      <td>NaN</td>\n",
       "      <td>0.28269</td>\n",
       "      <td>0.2750</td>\n",
       "      <td>NaN</td>\n",
       "      <td>NaN</td>\n",
       "      <td>NaN</td>\n",
       "      <td>0</td>\n",
       "      <td>Not available</td>\n",
       "      <td>...</td>\n",
       "      <td>True</td>\n",
       "      <td>2083.333333</td>\n",
       "      <td>123.32</td>\n",
       "      <td>0</td>\n",
       "      <td>0.06</td>\n",
       "      <td>3001</td>\n",
       "      <td>1.0</td>\n",
       "      <td>Not displayed</td>\n",
       "      <td>41</td>\n",
       "      <td>GA</td>\n",
       "    </tr>\n",
       "    <tr>\n",
       "      <th>3</th>\n",
       "      <td>36</td>\n",
       "      <td>Current</td>\n",
       "      <td>0.08490</td>\n",
       "      <td>0.12528</td>\n",
       "      <td>0.0974</td>\n",
       "      <td>6.0</td>\n",
       "      <td>A</td>\n",
       "      <td>9.0</td>\n",
       "      <td>16</td>\n",
       "      <td>Employed</td>\n",
       "      <td>...</td>\n",
       "      <td>True</td>\n",
       "      <td>2875.000000</td>\n",
       "      <td>321.45</td>\n",
       "      <td>0</td>\n",
       "      <td>0.15</td>\n",
       "      <td>10000</td>\n",
       "      <td>1.0</td>\n",
       "      <td>$25,000-49,999</td>\n",
       "      <td>158</td>\n",
       "      <td>GA</td>\n",
       "    </tr>\n",
       "    <tr>\n",
       "      <th>4</th>\n",
       "      <td>36</td>\n",
       "      <td>Current</td>\n",
       "      <td>0.18316</td>\n",
       "      <td>0.24614</td>\n",
       "      <td>0.2085</td>\n",
       "      <td>3.0</td>\n",
       "      <td>D</td>\n",
       "      <td>4.0</td>\n",
       "      <td>2</td>\n",
       "      <td>Employed</td>\n",
       "      <td>...</td>\n",
       "      <td>True</td>\n",
       "      <td>9583.333333</td>\n",
       "      <td>563.97</td>\n",
       "      <td>0</td>\n",
       "      <td>0.26</td>\n",
       "      <td>15000</td>\n",
       "      <td>1.0</td>\n",
       "      <td>$100,000+</td>\n",
       "      <td>20</td>\n",
       "      <td>MN</td>\n",
       "    </tr>\n",
       "  </tbody>\n",
       "</table>\n",
       "<p>5 rows × 23 columns</p>\n",
       "</div>"
      ],
      "text/plain": [
       "  Term LoanStatus  EstimatedEffectiveYield  BorrowerAPR  BorrowerRate  \\\n",
       "0   36  Completed                      NaN      0.16516        0.1580   \n",
       "1   36    Current                  0.07960      0.12016        0.0920   \n",
       "2   36  Completed                      NaN      0.28269        0.2750   \n",
       "3   36    Current                  0.08490      0.12528        0.0974   \n",
       "4   36    Current                  0.18316      0.24614        0.2085   \n",
       "\n",
       "   ProsperRating_Numeric ProsperRating_Alpha  ProsperScore  \\\n",
       "0                    NaN                 NaN           NaN   \n",
       "1                    6.0                   A           7.0   \n",
       "2                    NaN                 NaN           NaN   \n",
       "3                    6.0                   A           9.0   \n",
       "4                    3.0                   D           4.0   \n",
       "\n",
       "   ListingCategory_Numeric EmploymentStatus  ... IncomeVerifiable  \\\n",
       "0                        0    Self-employed  ...             True   \n",
       "1                        2         Employed  ...             True   \n",
       "2                        0    Not available  ...             True   \n",
       "3                       16         Employed  ...             True   \n",
       "4                        2         Employed  ...             True   \n",
       "\n",
       "   StatedMonthlyIncome  MonthlyLoanPayment  Recommendations  \\\n",
       "0          3083.333333              330.43                0   \n",
       "1          6125.000000              318.93                0   \n",
       "2          2083.333333              123.32                0   \n",
       "3          2875.000000              321.45                0   \n",
       "4          9583.333333              563.97                0   \n",
       "\n",
       "   DebtToIncomeRatio  LoanOriginalAmount  PercentFunded     IncomeRange  \\\n",
       "0               0.17                9425            1.0  $25,000-49,999   \n",
       "1               0.18               10000            1.0  $50,000-74,999   \n",
       "2               0.06                3001            1.0   Not displayed   \n",
       "3               0.15               10000            1.0  $25,000-49,999   \n",
       "4               0.26               15000            1.0       $100,000+   \n",
       "\n",
       "   Investors  BorrowerState  \n",
       "0        258             CO  \n",
       "1          1             CO  \n",
       "2         41             GA  \n",
       "3        158             GA  \n",
       "4         20             MN  \n",
       "\n",
       "[5 rows x 23 columns]"
      ]
     },
     "execution_count": 53,
     "metadata": {},
     "output_type": "execute_result"
    }
   ],
   "source": [
    "loan_df.head()"
   ]
  },
  {
   "cell_type": "markdown",
   "metadata": {},
   "source": [
    "### And this is final cleaned dataset for our project"
   ]
  },
  {
   "cell_type": "code",
   "execution_count": null,
   "metadata": {},
   "outputs": [],
   "source": []
  },
  {
   "cell_type": "markdown",
   "metadata": {},
   "source": [
    "## Visulization"
   ]
  },
  {
   "cell_type": "code",
   "execution_count": null,
   "metadata": {},
   "outputs": [],
   "source": []
  }
 ],
 "metadata": {
  "kernelspec": {
   "display_name": "Python 3",
   "language": "python",
   "name": "python3"
  },
  "language_info": {
   "codemirror_mode": {
    "name": "ipython",
    "version": 3
   },
   "file_extension": ".py",
   "mimetype": "text/x-python",
   "name": "python",
   "nbconvert_exporter": "python",
   "pygments_lexer": "ipython3",
   "version": "3.7.7"
  }
 },
 "nbformat": 4,
 "nbformat_minor": 4
}
